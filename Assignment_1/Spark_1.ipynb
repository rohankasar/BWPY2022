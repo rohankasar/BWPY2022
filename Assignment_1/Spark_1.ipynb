{
 "cells": [
  {
   "cell_type": "code",
   "execution_count": 1,
   "metadata": {},
   "outputs": [
    {
     "name": "stdout",
     "output_type": "stream",
     "text": [
      "+-----+---+\n",
      "| Name|Age|\n",
      "+-----+---+\n",
      "|Alice| 34|\n",
      "|  Bob| 45|\n",
      "|Cathy| 29|\n",
      "|David| 54|\n",
      "|  Eva| 23|\n",
      "+-----+---+\n",
      "\n"
     ]
    }
   ],
   "source": [
    "from pyspark.sql import SparkSession\n",
    "from pyspark.sql.functions import col, when, count\n",
    "\n",
    "# Create a Spark session\n",
    "spark = SparkSession.builder \\\n",
    "    .appName(\"Sample Transformations\") \\\n",
    "    .getOrCreate()\n",
    "\n",
    "# Sample data\n",
    "data = [\n",
    "    (1, \"Alice\", 34, \"HR\"),\n",
    "    (2, \"Bob\", 45, \"Finance\"),\n",
    "    (3, \"Cathy\", 29, \"HR\"),\n",
    "    (4, \"David\", 54, \"Finance\"),\n",
    "    (5, \"Eva\", 23, \"IT\")\n",
    "]\n",
    "\n",
    "columns = [\"ID\", \"Name\", \"Age\", \"Department\"]\n",
    "\n",
    "# Create DataFrame\n",
    "df = spark.createDataFrame(data, columns)\n",
    "\n",
    "# 1. Select specific columns\n",
    "df_select = df.select(\"Name\", \"Age\")\n",
    "df_select.show()\n",
    "\n"
   ]
  },
  {
   "cell_type": "code",
   "execution_count": 2,
   "metadata": {},
   "outputs": [
    {
     "name": "stdout",
     "output_type": "stream",
     "text": [
      "+---+-----+---+----------+\n",
      "| ID| Name|Age|Department|\n",
      "+---+-----+---+----------+\n",
      "|  1|Alice| 34|        HR|\n",
      "|  2|  Bob| 45|   Finance|\n",
      "|  4|David| 54|   Finance|\n",
      "+---+-----+---+----------+\n",
      "\n"
     ]
    }
   ],
   "source": [
    "\n",
    "# 2. Filter rows\n",
    "df_filter = df.filter(col(\"Age\") > 30)\n",
    "df_filter.show()\n"
   ]
  },
  {
   "cell_type": "code",
   "execution_count": 3,
   "metadata": {},
   "outputs": [
    {
     "name": "stdout",
     "output_type": "stream",
     "text": [
      "+---+-----+---+----------+--------+\n",
      "| ID| Name|Age|Department|AgeGroup|\n",
      "+---+-----+---+----------+--------+\n",
      "|  1|Alice| 34|        HR|  Senior|\n",
      "|  2|  Bob| 45|   Finance|  Senior|\n",
      "|  3|Cathy| 29|        HR|  Junior|\n",
      "|  4|David| 54|   Finance|  Senior|\n",
      "|  5|  Eva| 23|        IT|  Junior|\n",
      "+---+-----+---+----------+--------+\n",
      "\n"
     ]
    }
   ],
   "source": [
    "\n",
    "# 3. Add new column\n",
    "df_with_column = df.withColumn(\"AgeGroup\", when(col(\"Age\") > 30, \"Senior\").otherwise(\"Junior\"))\n",
    "df_with_column.show()\n",
    "\n",
    "\n",
    "\n"
   ]
  },
  {
   "cell_type": "code",
   "execution_count": 4,
   "metadata": {},
   "outputs": [
    {
     "name": "stdout",
     "output_type": "stream",
     "text": [
      "+---+-----+---+--------+\n",
      "| ID| Name|Age|AgeGroup|\n",
      "+---+-----+---+--------+\n",
      "|  1|Alice| 34|  Senior|\n",
      "|  2|  Bob| 45|  Senior|\n",
      "|  3|Cathy| 29|  Junior|\n",
      "|  4|David| 54|  Senior|\n",
      "|  5|  Eva| 23|  Junior|\n",
      "+---+-----+---+--------+\n",
      "\n"
     ]
    }
   ],
   "source": [
    "# 4. Drop a column\n",
    "df_drop = df_with_column.drop(\"Department\")\n",
    "df_drop.show()\n"
   ]
  },
  {
   "cell_type": "code",
   "execution_count": 5,
   "metadata": {},
   "outputs": [
    {
     "name": "stdout",
     "output_type": "stream",
     "text": [
      "+---+-----+---+----------+\n",
      "| ID| Name|Age|Department|\n",
      "+---+-----+---+----------+\n",
      "|  2|  Bob| 45|   Finance|\n",
      "|  1|Alice| 34|        HR|\n",
      "|  5|  Eva| 23|        IT|\n",
      "+---+-----+---+----------+\n",
      "\n"
     ]
    }
   ],
   "source": [
    "# 5. Distinct rows\n",
    "df_distinct = df.dropDuplicates([\"Department\"])\n",
    "df_distinct.show()\n",
    "\n"
   ]
  },
  {
   "cell_type": "code",
   "execution_count": 6,
   "metadata": {},
   "outputs": [
    {
     "name": "stdout",
     "output_type": "stream",
     "text": [
      "+---+-----+---+----------+\n",
      "| ID| Name|Age|Department|\n",
      "+---+-----+---+----------+\n",
      "|  5|  Eva| 23|        IT|\n",
      "|  3|Cathy| 29|        HR|\n",
      "|  1|Alice| 34|        HR|\n",
      "|  2|  Bob| 45|   Finance|\n",
      "|  4|David| 54|   Finance|\n",
      "+---+-----+---+----------+\n",
      "\n"
     ]
    }
   ],
   "source": [
    "# 6. Order by column\n",
    "df_order = df.orderBy(col(\"Age\"))\n",
    "df_order.show()\n",
    "\n"
   ]
  },
  {
   "cell_type": "code",
   "execution_count": 7,
   "metadata": {},
   "outputs": [
    {
     "name": "stdout",
     "output_type": "stream",
     "text": [
      "+----------+-----+\n",
      "|Department|Count|\n",
      "+----------+-----+\n",
      "|        HR|    2|\n",
      "|   Finance|    2|\n",
      "|        IT|    1|\n",
      "+----------+-----+\n",
      "\n"
     ]
    }
   ],
   "source": [
    "# 7. Group by and aggregate\n",
    "df_group = df.groupBy(\"Department\").agg(count(\"ID\").alias(\"Count\"))\n",
    "df_group.show()\n",
    "\n"
   ]
  },
  {
   "cell_type": "code",
   "execution_count": 8,
   "metadata": {},
   "outputs": [
    {
     "name": "stdout",
     "output_type": "stream",
     "text": [
      "+----------+---+-----+---+--------+-----+\n",
      "|Department| ID| Name|Age|AgeGroup|Count|\n",
      "+----------+---+-----+---+--------+-----+\n",
      "|        HR|  1|Alice| 34|  Senior|    2|\n",
      "|   Finance|  2|  Bob| 45|  Senior|    2|\n",
      "|        HR|  3|Cathy| 29|  Junior|    2|\n",
      "|   Finance|  4|David| 54|  Senior|    2|\n",
      "|        IT|  5|  Eva| 23|  Junior|    1|\n",
      "+----------+---+-----+---+--------+-----+\n",
      "\n"
     ]
    }
   ],
   "source": [
    "# 8. Join DataFrames\n",
    "df_join = df_with_column.join(df_group, \"Department\", \"inner\")\n",
    "df_join.show()\n",
    "\n"
   ]
  },
  {
   "cell_type": "code",
   "execution_count": 9,
   "metadata": {},
   "outputs": [
    {
     "name": "stdout",
     "output_type": "stream",
     "text": [
      "+---+-----+---+----------+\n",
      "| ID| Name|Age|Department|\n",
      "+---+-----+---+----------+\n",
      "|  1|Alice| 34|        HR|\n",
      "|  2|  Bob| 45|   Finance|\n",
      "|  3|Cathy| 29|        HR|\n",
      "+---+-----+---+----------+\n",
      "\n"
     ]
    }
   ],
   "source": [
    "# 9. Limit rows\n",
    "df_limit = df.limit(3)\n",
    "df_limit.show()"
   ]
  }
 ],
 "metadata": {
  "kernelspec": {
   "display_name": ".venv",
   "language": "python",
   "name": "python3"
  },
  "language_info": {
   "codemirror_mode": {
    "name": "ipython",
    "version": 3
   },
   "file_extension": ".py",
   "mimetype": "text/x-python",
   "name": "python",
   "nbconvert_exporter": "python",
   "pygments_lexer": "ipython3",
   "version": "3.10.11"
  }
 },
 "nbformat": 4,
 "nbformat_minor": 2
}
